{
  "metadata": {
    "kernelspec": {
      "language": "python",
      "display_name": "Python 3",
      "name": "python3"
    },
    "language_info": {
      "name": "python",
      "version": "3.10.12",
      "mimetype": "text/x-python",
      "codemirror_mode": {
        "name": "ipython",
        "version": 3
      },
      "pygments_lexer": "ipython3",
      "nbconvert_exporter": "python",
      "file_extension": ".py"
    },
    "kaggle": {
      "accelerator": "none",
      "dataSources": [
        {
          "sourceId": 11082128,
          "sourceType": "datasetVersion",
          "datasetId": 6784624
        }
      ],
      "dockerImageVersionId": 30918,
      "isInternetEnabled": true,
      "language": "python",
      "sourceType": "notebook",
      "isGpuEnabled": false
    },
    "colab": {
      "name": "Visual Data Analysis on Chocolate Sales",
      "provenance": [],
      "include_colab_link": true
    }
  },
  "nbformat_minor": 0,
  "nbformat": 4,
  "cells": [
    {
      "cell_type": "markdown",
      "metadata": {
        "id": "view-in-github",
        "colab_type": "text"
      },
      "source": [
        "<a href=\"https://colab.research.google.com/github/mdarifahammedreza/Data-Science-practice/blob/main/Visual_Data_Analysis_on_Chocolate_Sales.ipynb\" target=\"_parent\"><img src=\"https://colab.research.google.com/assets/colab-badge.svg\" alt=\"Open In Colab\"/></a>"
      ]
    },
    {
      "source": [
        "# IMPORTANT: RUN THIS CELL IN ORDER TO IMPORT YOUR KAGGLE DATA SOURCES,\n",
        "# THEN FEEL FREE TO DELETE THIS CELL.\n",
        "# NOTE: THIS NOTEBOOK ENVIRONMENT DIFFERS FROM KAGGLE'S PYTHON\n",
        "# ENVIRONMENT SO THERE MAY BE MISSING LIBRARIES USED BY YOUR\n",
        "# NOTEBOOK.\n",
        "import kagglehub\n",
        "atharvasoundankar_chocolate_sales_path = kagglehub.dataset_download('atharvasoundankar/chocolate-sales')\n",
        "\n",
        "print('Data source import complete.')\n"
      ],
      "metadata": {
        "id": "9S6d0SDjTF-U"
      },
      "cell_type": "code",
      "outputs": [],
      "execution_count": null
    },
    {
      "cell_type": "code",
      "source": [
        "# This Python 3 environment comes with many helpful analytics libraries installed\n",
        "# It is defined by the kaggle/python Docker image: https://github.com/kaggle/docker-python\n",
        "# For example, here's several helpful packages to load\n",
        "\n",
        "import numpy as np # linear algebra\n",
        "import pandas as pd # data processing, CSV file I/O (e.g. pd.read_csv)\n",
        "import matplotlib.pyplot as plt\n",
        "import seaborn as sns\n",
        "import warnings\n",
        "warnings.filterwarnings('ignore')\n",
        "\n",
        "# Input data files are available in the read-only \"../input/\" directory\n",
        "# For example, running this (by clicking run or pressing Shift+Enter) will list all files under the input directory\n",
        "\n",
        "import os\n",
        "for dirname, _, filenames in os.walk('/kaggle/input'):\n",
        "    for filename in filenames:\n",
        "        print(os.path.join(dirname, filename))\n",
        "\n",
        "# You can write up to 20GB to the current directory (/kaggle/working/) that gets preserved as output when you create a version using \"Save & Run All\"\n",
        "# You can also write temporary files to /kaggle/temp/, but they won't be saved outside of the current session"
      ],
      "metadata": {
        "_uuid": "8f2839f25d086af736a60e9eeb907d3b93b6e0e5",
        "_cell_guid": "b1076dfc-b9ad-4769-8c92-a6c4dae69d19",
        "trusted": true,
        "execution": {
          "iopub.status.busy": "2025-04-06T13:52:33.983442Z",
          "iopub.execute_input": "2025-04-06T13:52:33.983859Z",
          "iopub.status.idle": "2025-04-06T13:52:34.000101Z",
          "shell.execute_reply.started": "2025-04-06T13:52:33.983828Z",
          "shell.execute_reply": "2025-04-06T13:52:33.998915Z"
        },
        "id": "JRaqavl_TF-W"
      },
      "outputs": [],
      "execution_count": null
    },
    {
      "cell_type": "markdown",
      "source": [
        "# 1. Data loading and preprocessing"
      ],
      "metadata": {
        "id": "8Oap6Zi-TF-X"
      }
    },
    {
      "cell_type": "code",
      "source": [
        "df_choc = pd.read_csv(\"/kaggle/input/chocolate-sales/Chocolate Sales.csv\")\n"
      ],
      "metadata": {
        "trusted": true,
        "execution": {
          "iopub.status.busy": "2025-04-06T13:52:34.00143Z",
          "iopub.execute_input": "2025-04-06T13:52:34.001776Z",
          "iopub.status.idle": "2025-04-06T13:52:34.020048Z",
          "shell.execute_reply.started": "2025-04-06T13:52:34.001678Z",
          "shell.execute_reply": "2025-04-06T13:52:34.018816Z"
        },
        "id": "VNzQqqSMTF-X"
      },
      "outputs": [],
      "execution_count": null
    },
    {
      "cell_type": "code",
      "source": [
        "df_choc.head()"
      ],
      "metadata": {
        "trusted": true,
        "execution": {
          "iopub.status.busy": "2025-04-06T13:52:34.023532Z",
          "iopub.execute_input": "2025-04-06T13:52:34.02391Z",
          "iopub.status.idle": "2025-04-06T13:52:34.045479Z",
          "shell.execute_reply.started": "2025-04-06T13:52:34.023848Z",
          "shell.execute_reply": "2025-04-06T13:52:34.04437Z"
        },
        "id": "qE6TTv_KTF-Y"
      },
      "outputs": [],
      "execution_count": null
    },
    {
      "cell_type": "markdown",
      "source": [],
      "metadata": {
        "id": "QkfWeBeRTF-Y"
      }
    },
    {
      "cell_type": "markdown",
      "source": [
        "## (a) Data Exploration"
      ],
      "metadata": {
        "id": "pjME6ns2TF-Y"
      }
    },
    {
      "cell_type": "code",
      "source": [
        "df_choc.shape"
      ],
      "metadata": {
        "trusted": true,
        "execution": {
          "iopub.status.busy": "2025-04-06T13:52:34.046895Z",
          "iopub.execute_input": "2025-04-06T13:52:34.047559Z",
          "iopub.status.idle": "2025-04-06T13:52:34.064713Z",
          "shell.execute_reply.started": "2025-04-06T13:52:34.047532Z",
          "shell.execute_reply": "2025-04-06T13:52:34.063637Z"
        },
        "id": "oDtaTF2DTF-Y"
      },
      "outputs": [],
      "execution_count": null
    },
    {
      "cell_type": "code",
      "source": [
        "df_choc.info()"
      ],
      "metadata": {
        "trusted": true,
        "execution": {
          "iopub.status.busy": "2025-04-06T13:52:34.066647Z",
          "iopub.execute_input": "2025-04-06T13:52:34.067034Z",
          "iopub.status.idle": "2025-04-06T13:52:34.089938Z",
          "shell.execute_reply.started": "2025-04-06T13:52:34.067008Z",
          "shell.execute_reply": "2025-04-06T13:52:34.0887Z"
        },
        "id": "SpoheZLMTF-Y"
      },
      "outputs": [],
      "execution_count": null
    },
    {
      "cell_type": "markdown",
      "source": [
        "## (b) Data Transformation"
      ],
      "metadata": {
        "id": "eEJ46T2CTF-Z"
      }
    },
    {
      "cell_type": "code",
      "source": [
        "#change type and format of Date Column\n",
        "df_choc['Date'] = pd.to_datetime(df_choc['Date'], format='%d-%b-%y')\n",
        "\n",
        "#Remove \"$\" and \",\" and \"spaces\" and change type into float of Amount Column\n",
        "df_choc['Amount'] = df_choc['Amount'].str.replace('$', '', regex=False).str.replace(',', '', regex=False).str.strip().astype(float)"
      ],
      "metadata": {
        "trusted": true,
        "execution": {
          "iopub.status.busy": "2025-04-06T13:52:34.091405Z",
          "iopub.execute_input": "2025-04-06T13:52:34.091657Z",
          "iopub.status.idle": "2025-04-06T13:52:34.117023Z",
          "shell.execute_reply.started": "2025-04-06T13:52:34.091635Z",
          "shell.execute_reply": "2025-04-06T13:52:34.11579Z"
        },
        "id": "whKssLZZTF-Z"
      },
      "outputs": [],
      "execution_count": null
    },
    {
      "cell_type": "code",
      "source": [
        "df_choc.info()"
      ],
      "metadata": {
        "trusted": true,
        "execution": {
          "iopub.status.busy": "2025-04-06T13:52:34.118271Z",
          "iopub.execute_input": "2025-04-06T13:52:34.118673Z",
          "iopub.status.idle": "2025-04-06T13:52:34.140005Z",
          "shell.execute_reply.started": "2025-04-06T13:52:34.118626Z",
          "shell.execute_reply": "2025-04-06T13:52:34.138953Z"
        },
        "id": "PCKLOaZ9TF-Z"
      },
      "outputs": [],
      "execution_count": null
    },
    {
      "cell_type": "code",
      "source": [
        "df_choc.sample(5)"
      ],
      "metadata": {
        "trusted": true,
        "execution": {
          "iopub.status.busy": "2025-04-06T13:52:34.141675Z",
          "iopub.execute_input": "2025-04-06T13:52:34.142087Z",
          "iopub.status.idle": "2025-04-06T13:52:34.166697Z",
          "shell.execute_reply.started": "2025-04-06T13:52:34.142051Z",
          "shell.execute_reply": "2025-04-06T13:52:34.165343Z"
        },
        "id": "63eocyT1TF-Z"
      },
      "outputs": [],
      "execution_count": null
    },
    {
      "cell_type": "code",
      "source": [
        "df_choc.isnull().sum()"
      ],
      "metadata": {
        "trusted": true,
        "execution": {
          "iopub.status.busy": "2025-04-06T13:52:34.16857Z",
          "iopub.execute_input": "2025-04-06T13:52:34.16894Z",
          "iopub.status.idle": "2025-04-06T13:52:34.189393Z",
          "shell.execute_reply.started": "2025-04-06T13:52:34.168895Z",
          "shell.execute_reply": "2025-04-06T13:52:34.188275Z"
        },
        "id": "KuylITDHTF-Z"
      },
      "outputs": [],
      "execution_count": null
    },
    {
      "cell_type": "code",
      "source": [
        "df_choc.duplicated().sum()"
      ],
      "metadata": {
        "trusted": true,
        "execution": {
          "iopub.status.busy": "2025-04-06T13:52:34.190639Z",
          "iopub.execute_input": "2025-04-06T13:52:34.191115Z",
          "iopub.status.idle": "2025-04-06T13:52:34.250861Z",
          "shell.execute_reply.started": "2025-04-06T13:52:34.191078Z",
          "shell.execute_reply": "2025-04-06T13:52:34.249973Z"
        },
        "id": "96cnrRlaTF-Z"
      },
      "outputs": [],
      "execution_count": null
    },
    {
      "cell_type": "markdown",
      "source": [
        "# 2. Expolatory Data analysis"
      ],
      "metadata": {
        "id": "wJcigNLcTF-Z"
      }
    },
    {
      "cell_type": "markdown",
      "source": [
        "## (a) Sales by Country"
      ],
      "metadata": {
        "id": "jJSIJUoTTF-Z"
      }
    },
    {
      "cell_type": "code",
      "source": [
        "country_sales = df_choc.groupby('Country')['Amount'].sum().sort_values(ascending=False).reset_index()\n",
        "\n",
        "plt.figure(figsize=(10, 6))\n",
        "sns.barplot(data= country_sales, x='Amount', y='Country', palette='viridis')\n",
        "plt.title('Total Sales by Country')\n",
        "plt.xlabel('Sales Amount (1M)')\n",
        "plt.ylabel('Country')\n",
        "plt.show()"
      ],
      "metadata": {
        "trusted": true,
        "execution": {
          "iopub.status.busy": "2025-04-06T13:52:34.251827Z",
          "iopub.execute_input": "2025-04-06T13:52:34.252127Z",
          "iopub.status.idle": "2025-04-06T13:52:34.459122Z",
          "shell.execute_reply.started": "2025-04-06T13:52:34.252104Z",
          "shell.execute_reply": "2025-04-06T13:52:34.458078Z"
        },
        "id": "4sjFC_BtTF-Z"
      },
      "outputs": [],
      "execution_count": null
    },
    {
      "cell_type": "markdown",
      "source": [
        "## (b) Salesperson Performance\n"
      ],
      "metadata": {
        "id": "t0mODtB2TF-a"
      }
    },
    {
      "cell_type": "code",
      "source": [
        "top_salespeople = df_choc.groupby('Sales Person')['Amount'].sum().sort_values(ascending=False).head(10).reset_index()\n",
        "\n",
        "plt.figure(figsize=(12, 6))\n",
        "sns.barplot(data=top_salespeople, x='Amount', y='Sales Person', palette='coolwarm')\n",
        "plt.title('Top 10 Salespeople by Total Sales')\n",
        "plt.xlabel('Total Sales')\n",
        "plt.ylabel('Sales Person')\n",
        "plt.show()"
      ],
      "metadata": {
        "trusted": true,
        "execution": {
          "iopub.status.busy": "2025-04-06T13:52:34.461239Z",
          "iopub.execute_input": "2025-04-06T13:52:34.461511Z",
          "iopub.status.idle": "2025-04-06T13:52:34.709024Z",
          "shell.execute_reply.started": "2025-04-06T13:52:34.461488Z",
          "shell.execute_reply": "2025-04-06T13:52:34.707993Z"
        },
        "id": "P0_PLqXBTF-a"
      },
      "outputs": [],
      "execution_count": null
    },
    {
      "cell_type": "markdown",
      "source": [
        "## (c) Average Sale per Box by Product"
      ],
      "metadata": {
        "id": "dDE1ZsndTF-a"
      }
    },
    {
      "cell_type": "code",
      "source": [
        "df_choc['Revenue per Box'] = df_choc['Amount'] / df_choc['Boxes Shipped']\n",
        "avg_per_box = df_choc.groupby('Product')['Revenue per Box'].mean().reset_index()\n",
        "\n",
        "plt.figure(figsize=(8, 6))\n",
        "sns.barplot(data=avg_per_box, x='Revenue per Box', y='Product', palette='cubehelix')\n",
        "plt.title('Average Revenue per Box by Product')\n",
        "plt.show()"
      ],
      "metadata": {
        "trusted": true,
        "execution": {
          "iopub.status.busy": "2025-04-06T13:52:34.710162Z",
          "iopub.execute_input": "2025-04-06T13:52:34.710474Z",
          "iopub.status.idle": "2025-04-06T13:52:35.069095Z",
          "shell.execute_reply.started": "2025-04-06T13:52:34.710433Z",
          "shell.execute_reply": "2025-04-06T13:52:35.068075Z"
        },
        "id": "3QU9go8ZTF-a"
      },
      "outputs": [],
      "execution_count": null
    },
    {
      "cell_type": "markdown",
      "source": [
        " ## (d) Total Boxes Shipped by Country"
      ],
      "metadata": {
        "id": "pXPvz8CATF-a"
      }
    },
    {
      "cell_type": "code",
      "source": [
        "country_boxes = df_choc.groupby('Country')['Boxes Shipped'].sum().sort_values(ascending=False).reset_index()\n",
        "\n",
        "plt.figure(figsize=(10, 6))\n",
        "sns.barplot(data=country_boxes, y='Boxes Shipped', x='Country', palette='magma')\n",
        "plt.title('Total Boxes Shipped by Country')\n",
        "plt.xlabel('Country')\n",
        "plt.ylabel('Boxes Shipped')\n",
        "plt.show()"
      ],
      "metadata": {
        "trusted": true,
        "execution": {
          "iopub.status.busy": "2025-04-06T13:52:35.069922Z",
          "iopub.execute_input": "2025-04-06T13:52:35.070184Z",
          "iopub.status.idle": "2025-04-06T13:52:35.268243Z",
          "shell.execute_reply.started": "2025-04-06T13:52:35.070162Z",
          "shell.execute_reply": "2025-04-06T13:52:35.267155Z"
        },
        "id": "YryttO2NTF-a"
      },
      "outputs": [],
      "execution_count": null
    },
    {
      "cell_type": "markdown",
      "source": [
        "## (e) Product Sales Distribution"
      ],
      "metadata": {
        "id": "GI97B6TVTF-a"
      }
    },
    {
      "cell_type": "code",
      "source": [
        "plt.figure(figsize=(10, 6))\n",
        "sns.boxplot(data=df_choc, x='Product', y='Amount', palette='Set2')\n",
        "plt.title('Sales Amount Distribution by Product')\n",
        "plt.xticks(rotation=45)\n",
        "plt.show()"
      ],
      "metadata": {
        "trusted": true,
        "execution": {
          "iopub.status.busy": "2025-04-06T13:52:35.269181Z",
          "iopub.execute_input": "2025-04-06T13:52:35.269446Z",
          "iopub.status.idle": "2025-04-06T13:52:35.876964Z",
          "shell.execute_reply.started": "2025-04-06T13:52:35.269418Z",
          "shell.execute_reply": "2025-04-06T13:52:35.875873Z"
        },
        "id": "FvYSwIJ4TF-a"
      },
      "outputs": [],
      "execution_count": null
    },
    {
      "cell_type": "markdown",
      "source": [
        "## (f) Sales Distribution per Salesperson"
      ],
      "metadata": {
        "id": "JXifzQA-TF-a"
      }
    },
    {
      "cell_type": "code",
      "source": [
        "plt.figure(figsize=(14, 6))\n",
        "sns.boxplot(data=df_choc, x='Sales Person', y='Amount', palette='Set3')\n",
        "plt.title('Sales Distribution per Salesperson')\n",
        "plt.xticks(rotation=90)\n",
        "plt.show()"
      ],
      "metadata": {
        "trusted": true,
        "execution": {
          "iopub.status.busy": "2025-04-06T13:52:35.87779Z",
          "iopub.execute_input": "2025-04-06T13:52:35.878046Z",
          "iopub.status.idle": "2025-04-06T13:52:36.38095Z",
          "shell.execute_reply.started": "2025-04-06T13:52:35.878024Z",
          "shell.execute_reply": "2025-04-06T13:52:36.379772Z"
        },
        "id": "a0WdGsIiTF-a"
      },
      "outputs": [],
      "execution_count": null
    },
    {
      "cell_type": "markdown",
      "source": [
        "## (g) Boxes Shipped vs. Amount"
      ],
      "metadata": {
        "id": "tx4CdmhQTF-a"
      }
    },
    {
      "cell_type": "code",
      "source": [
        "plt.figure(figsize=(8, 6))\n",
        "sns.scatterplot(data=df_choc, x='Boxes Shipped', y='Amount', hue='Product')\n",
        "plt.title('Boxes Shipped vs. Amount')\n",
        "plt.xlabel('Boxes Shipped')\n",
        "plt.ylabel('Sales Amount')\n",
        "plt.show()"
      ],
      "metadata": {
        "trusted": true,
        "execution": {
          "iopub.status.busy": "2025-04-06T13:52:36.382071Z",
          "iopub.execute_input": "2025-04-06T13:52:36.382408Z",
          "iopub.status.idle": "2025-04-06T13:52:37.160061Z",
          "shell.execute_reply.started": "2025-04-06T13:52:36.38238Z",
          "shell.execute_reply": "2025-04-06T13:52:37.15891Z"
        },
        "id": "T5U0I_qITF-a"
      },
      "outputs": [],
      "execution_count": null
    },
    {
      "cell_type": "markdown",
      "source": [
        "## (h) Sales Heatmap by Country & Product"
      ],
      "metadata": {
        "id": "CVon5Ew_TF-a"
      }
    },
    {
      "cell_type": "code",
      "source": [
        "pivot = df_choc.pivot_table(index='Country', columns='Product', values='Amount', aggfunc='sum').fillna(0)\n",
        "\n",
        "plt.figure(figsize=(12, 8))\n",
        "sns.heatmap(pivot, annot=False, fmt='.0f', cmap='YlGnBu')\n",
        "plt.title('Heatmap of Sales by Country and Product')\n",
        "plt.xlabel('Product')\n",
        "plt.ylabel('Country')\n",
        "plt.show()"
      ],
      "metadata": {
        "trusted": true,
        "execution": {
          "iopub.status.busy": "2025-04-06T13:52:37.160979Z",
          "iopub.execute_input": "2025-04-06T13:52:37.161256Z",
          "iopub.status.idle": "2025-04-06T13:52:37.585572Z",
          "shell.execute_reply.started": "2025-04-06T13:52:37.161232Z",
          "shell.execute_reply": "2025-04-06T13:52:37.584609Z"
        },
        "id": "vDi8lQDdTF-b"
      },
      "outputs": [],
      "execution_count": null
    }
  ]
}