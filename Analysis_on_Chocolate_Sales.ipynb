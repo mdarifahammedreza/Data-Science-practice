{
  "metadata": {
    "kernelspec": {
      "language": "python",
      "display_name": "Python 3",
      "name": "python3"
    },
    "language_info": {
      "name": "python",
      "version": "3.10.12",
      "mimetype": "text/x-python",
      "codemirror_mode": {
        "name": "ipython",
        "version": 3
      },
      "pygments_lexer": "ipython3",
      "nbconvert_exporter": "python",
      "file_extension": ".py"
    },
    "kaggle": {
      "accelerator": "none",
      "dataSources": [
        {
          "sourceId": 11082128,
          "sourceType": "datasetVersion",
          "datasetId": 6784624
        }
      ],
      "dockerImageVersionId": 30918,
      "isInternetEnabled": true,
      "language": "python",
      "sourceType": "notebook",
      "isGpuEnabled": false
    },
    "colab": {
      "name": "Visual Data Analysis on Chocolate Sales",
      "provenance": [],
      "include_colab_link": true
    }
  },
  "nbformat_minor": 0,
  "nbformat": 4,
  "cells": [
    {
      "cell_type": "markdown",
      "metadata": {
        "id": "view-in-github",
        "colab_type": "text"
      },
      "source": [
        "<a href=\"https://colab.research.google.com/github/mdarifahammedreza/Data-Science-practice/blob/main/Analysis_on_Chocolate_Sales.ipynb\" target=\"_parent\"><img src=\"https://colab.research.google.com/assets/colab-badge.svg\" alt=\"Open In Colab\"/></a>"
      ]
    },
    {
      "source": [],
      "metadata": {
        "id": "O6LnQxw3ozjk"
      },
      "cell_type": "code",
      "outputs": [],
      "execution_count": null
    },
    {
      "cell_type": "markdown",
      "source": [
        "\n",
        "# DS 331 Assignment\n",
        "### **Author** : Md Arif Ahammed Reza\n",
        "**Id:** 221-35-951\n",
        "\n",
        "github :"
      ],
      "metadata": {
        "id": "mmEOXHR_pWNq"
      }
    },
    {
      "cell_type": "code",
      "source": [
        "import numpy as np\n",
        "import pandas as pd\n",
        "import matplotlib.pyplot as plt\n",
        "import seaborn as sns\n"
      ],
      "metadata": {
        "_uuid": "8f2839f25d086af736a60e9eeb907d3b93b6e0e5",
        "_cell_guid": "b1076dfc-b9ad-4769-8c92-a6c4dae69d19",
        "trusted": true,
        "execution": {
          "iopub.status.busy": "2025-04-06T13:52:33.983442Z",
          "iopub.execute_input": "2025-04-06T13:52:33.983859Z",
          "iopub.status.idle": "2025-04-06T13:52:34.000101Z",
          "shell.execute_reply.started": "2025-04-06T13:52:33.983828Z",
          "shell.execute_reply": "2025-04-06T13:52:33.998915Z"
        },
        "id": "JdnLBgJnozjm"
      },
      "outputs": [],
      "execution_count": 2
    },
    {
      "cell_type": "markdown",
      "source": [
        "# 1. Data loading and preprocessing"
      ],
      "metadata": {
        "id": "3SWVhJ2Bozjn"
      }
    },
    {
      "cell_type": "code",
      "source": [
        "df_choc = pd.read_csv(\"/content/sample_data/Chocolate Sales.csv\")\n"
      ],
      "metadata": {
        "trusted": true,
        "execution": {
          "iopub.status.busy": "2025-04-06T13:52:34.00143Z",
          "iopub.execute_input": "2025-04-06T13:52:34.001776Z",
          "iopub.status.idle": "2025-04-06T13:52:34.020048Z",
          "shell.execute_reply.started": "2025-04-06T13:52:34.001678Z",
          "shell.execute_reply": "2025-04-06T13:52:34.018816Z"
        },
        "id": "iASnSu4aozjo"
      },
      "outputs": [],
      "execution_count": 3
    },
    {
      "cell_type": "code",
      "source": [
        "df_choc.head()"
      ],
      "metadata": {
        "trusted": true,
        "execution": {
          "iopub.status.busy": "2025-04-06T13:52:34.023532Z",
          "iopub.execute_input": "2025-04-06T13:52:34.02391Z",
          "iopub.status.idle": "2025-04-06T13:52:34.045479Z",
          "shell.execute_reply.started": "2025-04-06T13:52:34.023848Z",
          "shell.execute_reply": "2025-04-06T13:52:34.04437Z"
        },
        "id": "bQWqGMq-ozjp",
        "outputId": "9eabd2ab-9fd4-467b-ae9d-3ea7263aeea4",
        "colab": {
          "base_uri": "https://localhost:8080/",
          "height": 206
        }
      },
      "outputs": [
        {
          "output_type": "execute_result",
          "data": {
            "text/plain": [
              "     Sales Person    Country              Product       Date    Amount  \\\n",
              "0  Jehu Rudeforth         UK      Mint Chip Choco  04-Jan-22   $5,320    \n",
              "1     Van Tuxwell      India        85% Dark Bars  01-Aug-22   $7,896    \n",
              "2    Gigi Bohling      India  Peanut Butter Cubes  07-Jul-22   $4,501    \n",
              "3    Jan Morforth  Australia  Peanut Butter Cubes  27-Apr-22  $12,726    \n",
              "4  Jehu Rudeforth         UK  Peanut Butter Cubes  24-Feb-22  $13,685    \n",
              "\n",
              "   Boxes Shipped  \n",
              "0            180  \n",
              "1             94  \n",
              "2             91  \n",
              "3            342  \n",
              "4            184  "
            ],
            "text/html": [
              "\n",
              "  <div id=\"df-87975f75-311a-43d4-a4d3-13a72f1b582f\" class=\"colab-df-container\">\n",
              "    <div>\n",
              "<style scoped>\n",
              "    .dataframe tbody tr th:only-of-type {\n",
              "        vertical-align: middle;\n",
              "    }\n",
              "\n",
              "    .dataframe tbody tr th {\n",
              "        vertical-align: top;\n",
              "    }\n",
              "\n",
              "    .dataframe thead th {\n",
              "        text-align: right;\n",
              "    }\n",
              "</style>\n",
              "<table border=\"1\" class=\"dataframe\">\n",
              "  <thead>\n",
              "    <tr style=\"text-align: right;\">\n",
              "      <th></th>\n",
              "      <th>Sales Person</th>\n",
              "      <th>Country</th>\n",
              "      <th>Product</th>\n",
              "      <th>Date</th>\n",
              "      <th>Amount</th>\n",
              "      <th>Boxes Shipped</th>\n",
              "    </tr>\n",
              "  </thead>\n",
              "  <tbody>\n",
              "    <tr>\n",
              "      <th>0</th>\n",
              "      <td>Jehu Rudeforth</td>\n",
              "      <td>UK</td>\n",
              "      <td>Mint Chip Choco</td>\n",
              "      <td>04-Jan-22</td>\n",
              "      <td>$5,320</td>\n",
              "      <td>180</td>\n",
              "    </tr>\n",
              "    <tr>\n",
              "      <th>1</th>\n",
              "      <td>Van Tuxwell</td>\n",
              "      <td>India</td>\n",
              "      <td>85% Dark Bars</td>\n",
              "      <td>01-Aug-22</td>\n",
              "      <td>$7,896</td>\n",
              "      <td>94</td>\n",
              "    </tr>\n",
              "    <tr>\n",
              "      <th>2</th>\n",
              "      <td>Gigi Bohling</td>\n",
              "      <td>India</td>\n",
              "      <td>Peanut Butter Cubes</td>\n",
              "      <td>07-Jul-22</td>\n",
              "      <td>$4,501</td>\n",
              "      <td>91</td>\n",
              "    </tr>\n",
              "    <tr>\n",
              "      <th>3</th>\n",
              "      <td>Jan Morforth</td>\n",
              "      <td>Australia</td>\n",
              "      <td>Peanut Butter Cubes</td>\n",
              "      <td>27-Apr-22</td>\n",
              "      <td>$12,726</td>\n",
              "      <td>342</td>\n",
              "    </tr>\n",
              "    <tr>\n",
              "      <th>4</th>\n",
              "      <td>Jehu Rudeforth</td>\n",
              "      <td>UK</td>\n",
              "      <td>Peanut Butter Cubes</td>\n",
              "      <td>24-Feb-22</td>\n",
              "      <td>$13,685</td>\n",
              "      <td>184</td>\n",
              "    </tr>\n",
              "  </tbody>\n",
              "</table>\n",
              "</div>\n",
              "    <div class=\"colab-df-buttons\">\n",
              "\n",
              "  <div class=\"colab-df-container\">\n",
              "    <button class=\"colab-df-convert\" onclick=\"convertToInteractive('df-87975f75-311a-43d4-a4d3-13a72f1b582f')\"\n",
              "            title=\"Convert this dataframe to an interactive table.\"\n",
              "            style=\"display:none;\">\n",
              "\n",
              "  <svg xmlns=\"http://www.w3.org/2000/svg\" height=\"24px\" viewBox=\"0 -960 960 960\">\n",
              "    <path d=\"M120-120v-720h720v720H120Zm60-500h600v-160H180v160Zm220 220h160v-160H400v160Zm0 220h160v-160H400v160ZM180-400h160v-160H180v160Zm440 0h160v-160H620v160ZM180-180h160v-160H180v160Zm440 0h160v-160H620v160Z\"/>\n",
              "  </svg>\n",
              "    </button>\n",
              "\n",
              "  <style>\n",
              "    .colab-df-container {\n",
              "      display:flex;\n",
              "      gap: 12px;\n",
              "    }\n",
              "\n",
              "    .colab-df-convert {\n",
              "      background-color: #E8F0FE;\n",
              "      border: none;\n",
              "      border-radius: 50%;\n",
              "      cursor: pointer;\n",
              "      display: none;\n",
              "      fill: #1967D2;\n",
              "      height: 32px;\n",
              "      padding: 0 0 0 0;\n",
              "      width: 32px;\n",
              "    }\n",
              "\n",
              "    .colab-df-convert:hover {\n",
              "      background-color: #E2EBFA;\n",
              "      box-shadow: 0px 1px 2px rgba(60, 64, 67, 0.3), 0px 1px 3px 1px rgba(60, 64, 67, 0.15);\n",
              "      fill: #174EA6;\n",
              "    }\n",
              "\n",
              "    .colab-df-buttons div {\n",
              "      margin-bottom: 4px;\n",
              "    }\n",
              "\n",
              "    [theme=dark] .colab-df-convert {\n",
              "      background-color: #3B4455;\n",
              "      fill: #D2E3FC;\n",
              "    }\n",
              "\n",
              "    [theme=dark] .colab-df-convert:hover {\n",
              "      background-color: #434B5C;\n",
              "      box-shadow: 0px 1px 3px 1px rgba(0, 0, 0, 0.15);\n",
              "      filter: drop-shadow(0px 1px 2px rgba(0, 0, 0, 0.3));\n",
              "      fill: #FFFFFF;\n",
              "    }\n",
              "  </style>\n",
              "\n",
              "    <script>\n",
              "      const buttonEl =\n",
              "        document.querySelector('#df-87975f75-311a-43d4-a4d3-13a72f1b582f button.colab-df-convert');\n",
              "      buttonEl.style.display =\n",
              "        google.colab.kernel.accessAllowed ? 'block' : 'none';\n",
              "\n",
              "      async function convertToInteractive(key) {\n",
              "        const element = document.querySelector('#df-87975f75-311a-43d4-a4d3-13a72f1b582f');\n",
              "        const dataTable =\n",
              "          await google.colab.kernel.invokeFunction('convertToInteractive',\n",
              "                                                    [key], {});\n",
              "        if (!dataTable) return;\n",
              "\n",
              "        const docLinkHtml = 'Like what you see? Visit the ' +\n",
              "          '<a target=\"_blank\" href=https://colab.research.google.com/notebooks/data_table.ipynb>data table notebook</a>'\n",
              "          + ' to learn more about interactive tables.';\n",
              "        element.innerHTML = '';\n",
              "        dataTable['output_type'] = 'display_data';\n",
              "        await google.colab.output.renderOutput(dataTable, element);\n",
              "        const docLink = document.createElement('div');\n",
              "        docLink.innerHTML = docLinkHtml;\n",
              "        element.appendChild(docLink);\n",
              "      }\n",
              "    </script>\n",
              "  </div>\n",
              "\n",
              "\n",
              "<div id=\"df-ccd5bbd5-24bf-4ca9-8f24-a29254f27981\">\n",
              "  <button class=\"colab-df-quickchart\" onclick=\"quickchart('df-ccd5bbd5-24bf-4ca9-8f24-a29254f27981')\"\n",
              "            title=\"Suggest charts\"\n",
              "            style=\"display:none;\">\n",
              "\n",
              "<svg xmlns=\"http://www.w3.org/2000/svg\" height=\"24px\"viewBox=\"0 0 24 24\"\n",
              "     width=\"24px\">\n",
              "    <g>\n",
              "        <path d=\"M19 3H5c-1.1 0-2 .9-2 2v14c0 1.1.9 2 2 2h14c1.1 0 2-.9 2-2V5c0-1.1-.9-2-2-2zM9 17H7v-7h2v7zm4 0h-2V7h2v10zm4 0h-2v-4h2v4z\"/>\n",
              "    </g>\n",
              "</svg>\n",
              "  </button>\n",
              "\n",
              "<style>\n",
              "  .colab-df-quickchart {\n",
              "      --bg-color: #E8F0FE;\n",
              "      --fill-color: #1967D2;\n",
              "      --hover-bg-color: #E2EBFA;\n",
              "      --hover-fill-color: #174EA6;\n",
              "      --disabled-fill-color: #AAA;\n",
              "      --disabled-bg-color: #DDD;\n",
              "  }\n",
              "\n",
              "  [theme=dark] .colab-df-quickchart {\n",
              "      --bg-color: #3B4455;\n",
              "      --fill-color: #D2E3FC;\n",
              "      --hover-bg-color: #434B5C;\n",
              "      --hover-fill-color: #FFFFFF;\n",
              "      --disabled-bg-color: #3B4455;\n",
              "      --disabled-fill-color: #666;\n",
              "  }\n",
              "\n",
              "  .colab-df-quickchart {\n",
              "    background-color: var(--bg-color);\n",
              "    border: none;\n",
              "    border-radius: 50%;\n",
              "    cursor: pointer;\n",
              "    display: none;\n",
              "    fill: var(--fill-color);\n",
              "    height: 32px;\n",
              "    padding: 0;\n",
              "    width: 32px;\n",
              "  }\n",
              "\n",
              "  .colab-df-quickchart:hover {\n",
              "    background-color: var(--hover-bg-color);\n",
              "    box-shadow: 0 1px 2px rgba(60, 64, 67, 0.3), 0 1px 3px 1px rgba(60, 64, 67, 0.15);\n",
              "    fill: var(--button-hover-fill-color);\n",
              "  }\n",
              "\n",
              "  .colab-df-quickchart-complete:disabled,\n",
              "  .colab-df-quickchart-complete:disabled:hover {\n",
              "    background-color: var(--disabled-bg-color);\n",
              "    fill: var(--disabled-fill-color);\n",
              "    box-shadow: none;\n",
              "  }\n",
              "\n",
              "  .colab-df-spinner {\n",
              "    border: 2px solid var(--fill-color);\n",
              "    border-color: transparent;\n",
              "    border-bottom-color: var(--fill-color);\n",
              "    animation:\n",
              "      spin 1s steps(1) infinite;\n",
              "  }\n",
              "\n",
              "  @keyframes spin {\n",
              "    0% {\n",
              "      border-color: transparent;\n",
              "      border-bottom-color: var(--fill-color);\n",
              "      border-left-color: var(--fill-color);\n",
              "    }\n",
              "    20% {\n",
              "      border-color: transparent;\n",
              "      border-left-color: var(--fill-color);\n",
              "      border-top-color: var(--fill-color);\n",
              "    }\n",
              "    30% {\n",
              "      border-color: transparent;\n",
              "      border-left-color: var(--fill-color);\n",
              "      border-top-color: var(--fill-color);\n",
              "      border-right-color: var(--fill-color);\n",
              "    }\n",
              "    40% {\n",
              "      border-color: transparent;\n",
              "      border-right-color: var(--fill-color);\n",
              "      border-top-color: var(--fill-color);\n",
              "    }\n",
              "    60% {\n",
              "      border-color: transparent;\n",
              "      border-right-color: var(--fill-color);\n",
              "    }\n",
              "    80% {\n",
              "      border-color: transparent;\n",
              "      border-right-color: var(--fill-color);\n",
              "      border-bottom-color: var(--fill-color);\n",
              "    }\n",
              "    90% {\n",
              "      border-color: transparent;\n",
              "      border-bottom-color: var(--fill-color);\n",
              "    }\n",
              "  }\n",
              "</style>\n",
              "\n",
              "  <script>\n",
              "    async function quickchart(key) {\n",
              "      const quickchartButtonEl =\n",
              "        document.querySelector('#' + key + ' button');\n",
              "      quickchartButtonEl.disabled = true;  // To prevent multiple clicks.\n",
              "      quickchartButtonEl.classList.add('colab-df-spinner');\n",
              "      try {\n",
              "        const charts = await google.colab.kernel.invokeFunction(\n",
              "            'suggestCharts', [key], {});\n",
              "      } catch (error) {\n",
              "        console.error('Error during call to suggestCharts:', error);\n",
              "      }\n",
              "      quickchartButtonEl.classList.remove('colab-df-spinner');\n",
              "      quickchartButtonEl.classList.add('colab-df-quickchart-complete');\n",
              "    }\n",
              "    (() => {\n",
              "      let quickchartButtonEl =\n",
              "        document.querySelector('#df-ccd5bbd5-24bf-4ca9-8f24-a29254f27981 button');\n",
              "      quickchartButtonEl.style.display =\n",
              "        google.colab.kernel.accessAllowed ? 'block' : 'none';\n",
              "    })();\n",
              "  </script>\n",
              "</div>\n",
              "\n",
              "    </div>\n",
              "  </div>\n"
            ],
            "application/vnd.google.colaboratory.intrinsic+json": {
              "type": "dataframe",
              "variable_name": "df_choc",
              "summary": "{\n  \"name\": \"df_choc\",\n  \"rows\": 1094,\n  \"fields\": [\n    {\n      \"column\": \"Sales Person\",\n      \"properties\": {\n        \"dtype\": \"category\",\n        \"num_unique_values\": 25,\n        \"samples\": [\n          \"Barr Faughny\",\n          \"Kaine Padly\",\n          \"Jehu Rudeforth\"\n        ],\n        \"semantic_type\": \"\",\n        \"description\": \"\"\n      }\n    },\n    {\n      \"column\": \"Country\",\n      \"properties\": {\n        \"dtype\": \"category\",\n        \"num_unique_values\": 6,\n        \"samples\": [\n          \"UK\",\n          \"India\",\n          \"Canada\"\n        ],\n        \"semantic_type\": \"\",\n        \"description\": \"\"\n      }\n    },\n    {\n      \"column\": \"Product\",\n      \"properties\": {\n        \"dtype\": \"category\",\n        \"num_unique_values\": 22,\n        \"samples\": [\n          \"Mint Chip Choco\",\n          \"Fruit & Nut Bars\",\n          \"Eclairs\"\n        ],\n        \"semantic_type\": \"\",\n        \"description\": \"\"\n      }\n    },\n    {\n      \"column\": \"Date\",\n      \"properties\": {\n        \"dtype\": \"object\",\n        \"num_unique_values\": 168,\n        \"samples\": [\n          \"22-Jun-22\",\n          \"30-Jun-22\",\n          \"22-Apr-22\"\n        ],\n        \"semantic_type\": \"\",\n        \"description\": \"\"\n      }\n    },\n    {\n      \"column\": \"Amount\",\n      \"properties\": {\n        \"dtype\": \"string\",\n        \"num_unique_values\": 827,\n        \"samples\": [\n          \"$9,660 \",\n          \"$3,318 \",\n          \"$4,347 \"\n        ],\n        \"semantic_type\": \"\",\n        \"description\": \"\"\n      }\n    },\n    {\n      \"column\": \"Boxes Shipped\",\n      \"properties\": {\n        \"dtype\": \"number\",\n        \"std\": 121,\n        \"min\": 1,\n        \"max\": 709,\n        \"num_unique_values\": 385,\n        \"samples\": [\n          316,\n          322,\n          518\n        ],\n        \"semantic_type\": \"\",\n        \"description\": \"\"\n      }\n    }\n  ]\n}"
            }
          },
          "metadata": {},
          "execution_count": 4
        }
      ],
      "execution_count": 4
    },
    {
      "cell_type": "markdown",
      "source": [],
      "metadata": {
        "id": "zNOx5pNoozjp"
      }
    },
    {
      "cell_type": "markdown",
      "source": [
        "## (a) Data Exploration"
      ],
      "metadata": {
        "id": "iSV2-h3Kozjp"
      }
    },
    {
      "cell_type": "code",
      "source": [
        "df_choc.shape"
      ],
      "metadata": {
        "trusted": true,
        "execution": {
          "iopub.status.busy": "2025-04-06T13:52:34.046895Z",
          "iopub.execute_input": "2025-04-06T13:52:34.047559Z",
          "iopub.status.idle": "2025-04-06T13:52:34.064713Z",
          "shell.execute_reply.started": "2025-04-06T13:52:34.047532Z",
          "shell.execute_reply": "2025-04-06T13:52:34.063637Z"
        },
        "id": "eSxY9dW0ozjq"
      },
      "outputs": [],
      "execution_count": null
    },
    {
      "cell_type": "code",
      "source": [
        "df_choc.info()"
      ],
      "metadata": {
        "trusted": true,
        "execution": {
          "iopub.status.busy": "2025-04-06T13:52:34.066647Z",
          "iopub.execute_input": "2025-04-06T13:52:34.067034Z",
          "iopub.status.idle": "2025-04-06T13:52:34.089938Z",
          "shell.execute_reply.started": "2025-04-06T13:52:34.067008Z",
          "shell.execute_reply": "2025-04-06T13:52:34.0887Z"
        },
        "id": "q7tLBGP9ozjq"
      },
      "outputs": [],
      "execution_count": null
    },
    {
      "cell_type": "markdown",
      "source": [
        "## (b) Data Transformation"
      ],
      "metadata": {
        "id": "2yBRmXQFozjr"
      }
    },
    {
      "cell_type": "code",
      "source": [
        "#change type and format of Date Column\n",
        "df_choc['Date'] = pd.to_datetime(df_choc['Date'], format='%d-%b-%y')\n",
        "\n",
        "#Remove \"$\" and \",\" and \"spaces\" and change type into float of Amount Column\n",
        "df_choc['Amount'] = df_choc['Amount'].str.replace('$', '', regex=False).str.replace(',', '', regex=False).str.strip().astype(float)"
      ],
      "metadata": {
        "trusted": true,
        "execution": {
          "iopub.status.busy": "2025-04-06T13:52:34.091405Z",
          "iopub.execute_input": "2025-04-06T13:52:34.091657Z",
          "iopub.status.idle": "2025-04-06T13:52:34.117023Z",
          "shell.execute_reply.started": "2025-04-06T13:52:34.091635Z",
          "shell.execute_reply": "2025-04-06T13:52:34.11579Z"
        },
        "id": "9CttsI9Pozjr"
      },
      "outputs": [],
      "execution_count": null
    },
    {
      "cell_type": "code",
      "source": [
        "df_choc.info()"
      ],
      "metadata": {
        "trusted": true,
        "execution": {
          "iopub.status.busy": "2025-04-06T13:52:34.118271Z",
          "iopub.execute_input": "2025-04-06T13:52:34.118673Z",
          "iopub.status.idle": "2025-04-06T13:52:34.140005Z",
          "shell.execute_reply.started": "2025-04-06T13:52:34.118626Z",
          "shell.execute_reply": "2025-04-06T13:52:34.138953Z"
        },
        "id": "wgAMor_uozjr"
      },
      "outputs": [],
      "execution_count": null
    },
    {
      "cell_type": "code",
      "source": [
        "df_choc.sample(5)"
      ],
      "metadata": {
        "trusted": true,
        "execution": {
          "iopub.status.busy": "2025-04-06T13:52:34.141675Z",
          "iopub.execute_input": "2025-04-06T13:52:34.142087Z",
          "iopub.status.idle": "2025-04-06T13:52:34.166697Z",
          "shell.execute_reply.started": "2025-04-06T13:52:34.142051Z",
          "shell.execute_reply": "2025-04-06T13:52:34.165343Z"
        },
        "id": "_HLfMovgozjs"
      },
      "outputs": [],
      "execution_count": null
    },
    {
      "cell_type": "code",
      "source": [
        "df_choc.isnull().sum()"
      ],
      "metadata": {
        "trusted": true,
        "execution": {
          "iopub.status.busy": "2025-04-06T13:52:34.16857Z",
          "iopub.execute_input": "2025-04-06T13:52:34.16894Z",
          "iopub.status.idle": "2025-04-06T13:52:34.189393Z",
          "shell.execute_reply.started": "2025-04-06T13:52:34.168895Z",
          "shell.execute_reply": "2025-04-06T13:52:34.188275Z"
        },
        "id": "qjDIeQIpozjs"
      },
      "outputs": [],
      "execution_count": null
    },
    {
      "cell_type": "code",
      "source": [
        "df_choc.duplicated().sum()"
      ],
      "metadata": {
        "trusted": true,
        "execution": {
          "iopub.status.busy": "2025-04-06T13:52:34.190639Z",
          "iopub.execute_input": "2025-04-06T13:52:34.191115Z",
          "iopub.status.idle": "2025-04-06T13:52:34.250861Z",
          "shell.execute_reply.started": "2025-04-06T13:52:34.191078Z",
          "shell.execute_reply": "2025-04-06T13:52:34.249973Z"
        },
        "id": "SgVo4JRIozjs"
      },
      "outputs": [],
      "execution_count": null
    },
    {
      "cell_type": "markdown",
      "source": [
        "# 2. Expolatory Data analysis"
      ],
      "metadata": {
        "id": "8hqoEZF8ozjs"
      }
    },
    {
      "cell_type": "markdown",
      "source": [
        "## (a) Sales by Country"
      ],
      "metadata": {
        "id": "U2rhvKCGozjs"
      }
    },
    {
      "cell_type": "code",
      "source": [
        "country_sales = df_choc.groupby('Country')['Amount'].sum().sort_values(ascending=False).reset_index()\n",
        "\n",
        "plt.figure(figsize=(10, 6))\n",
        "sns.barplot(data= country_sales, x='Amount', y='Country', palette='viridis')\n",
        "plt.title('Total Sales by Country')\n",
        "plt.xlabel('Sales Amount (1M)')\n",
        "plt.ylabel('Country')\n",
        "plt.show()"
      ],
      "metadata": {
        "trusted": true,
        "execution": {
          "iopub.status.busy": "2025-04-06T13:52:34.251827Z",
          "iopub.execute_input": "2025-04-06T13:52:34.252127Z",
          "iopub.status.idle": "2025-04-06T13:52:34.459122Z",
          "shell.execute_reply.started": "2025-04-06T13:52:34.252104Z",
          "shell.execute_reply": "2025-04-06T13:52:34.458078Z"
        },
        "id": "7TVT7SeBozjs"
      },
      "outputs": [],
      "execution_count": null
    },
    {
      "cell_type": "markdown",
      "source": [
        "## (b) Salesperson Performance\n"
      ],
      "metadata": {
        "id": "1XN1FXsAozjt"
      }
    },
    {
      "cell_type": "code",
      "source": [
        "top_salespeople = df_choc.groupby('Sales Person')['Amount'].sum().sort_values(ascending=False).head(10).reset_index()\n",
        "\n",
        "plt.figure(figsize=(12, 6))\n",
        "sns.barplot(data=top_salespeople, x='Amount', y='Sales Person', palette='coolwarm')\n",
        "plt.title('Top 10 Salespeople by Total Sales')\n",
        "plt.xlabel('Total Sales')\n",
        "plt.ylabel('Sales Person')\n",
        "plt.show()"
      ],
      "metadata": {
        "trusted": true,
        "execution": {
          "iopub.status.busy": "2025-04-06T13:52:34.461239Z",
          "iopub.execute_input": "2025-04-06T13:52:34.461511Z",
          "iopub.status.idle": "2025-04-06T13:52:34.709024Z",
          "shell.execute_reply.started": "2025-04-06T13:52:34.461488Z",
          "shell.execute_reply": "2025-04-06T13:52:34.707993Z"
        },
        "id": "Ff4UEzfgozjt"
      },
      "outputs": [],
      "execution_count": null
    },
    {
      "cell_type": "markdown",
      "source": [
        "## (c) Average Sale per Box by Product"
      ],
      "metadata": {
        "id": "s_DvRbUxozjt"
      }
    },
    {
      "cell_type": "code",
      "source": [
        "df_choc['Revenue per Box'] = df_choc['Amount'] / df_choc['Boxes Shipped']\n",
        "avg_per_box = df_choc.groupby('Product')['Revenue per Box'].mean().reset_index()\n",
        "\n",
        "plt.figure(figsize=(8, 6))\n",
        "sns.barplot(data=avg_per_box, x='Revenue per Box', y='Product', palette='cubehelix')\n",
        "plt.title('Average Revenue per Box by Product')\n",
        "plt.show()"
      ],
      "metadata": {
        "trusted": true,
        "execution": {
          "iopub.status.busy": "2025-04-06T13:52:34.710162Z",
          "iopub.execute_input": "2025-04-06T13:52:34.710474Z",
          "iopub.status.idle": "2025-04-06T13:52:35.069095Z",
          "shell.execute_reply.started": "2025-04-06T13:52:34.710433Z",
          "shell.execute_reply": "2025-04-06T13:52:35.068075Z"
        },
        "id": "9tKczPDkozjt"
      },
      "outputs": [],
      "execution_count": null
    },
    {
      "cell_type": "markdown",
      "source": [
        " ## (d) Total Boxes Shipped by Country"
      ],
      "metadata": {
        "id": "Kv1ZL9RQozjt"
      }
    },
    {
      "cell_type": "code",
      "source": [
        "country_boxes = df_choc.groupby('Country')['Boxes Shipped'].sum().sort_values(ascending=False).reset_index()\n",
        "\n",
        "plt.figure(figsize=(10, 6))\n",
        "sns.barplot(data=country_boxes, y='Boxes Shipped', x='Country', palette='magma')\n",
        "plt.title('Total Boxes Shipped by Country')\n",
        "plt.xlabel('Country')\n",
        "plt.ylabel('Boxes Shipped')\n",
        "plt.show()"
      ],
      "metadata": {
        "trusted": true,
        "execution": {
          "iopub.status.busy": "2025-04-06T13:52:35.069922Z",
          "iopub.execute_input": "2025-04-06T13:52:35.070184Z",
          "iopub.status.idle": "2025-04-06T13:52:35.268243Z",
          "shell.execute_reply.started": "2025-04-06T13:52:35.070162Z",
          "shell.execute_reply": "2025-04-06T13:52:35.267155Z"
        },
        "id": "8y-CDYsUozjt"
      },
      "outputs": [],
      "execution_count": null
    },
    {
      "cell_type": "markdown",
      "source": [
        "## (e) Product Sales Distribution"
      ],
      "metadata": {
        "id": "SJVsTODpozjt"
      }
    },
    {
      "cell_type": "code",
      "source": [
        "plt.figure(figsize=(10, 6))\n",
        "sns.boxplot(data=df_choc, x='Product', y='Amount', palette='Set2')\n",
        "plt.title('Sales Amount Distribution by Product')\n",
        "plt.xticks(rotation=45)\n",
        "plt.show()"
      ],
      "metadata": {
        "trusted": true,
        "execution": {
          "iopub.status.busy": "2025-04-06T13:52:35.269181Z",
          "iopub.execute_input": "2025-04-06T13:52:35.269446Z",
          "iopub.status.idle": "2025-04-06T13:52:35.876964Z",
          "shell.execute_reply.started": "2025-04-06T13:52:35.269418Z",
          "shell.execute_reply": "2025-04-06T13:52:35.875873Z"
        },
        "id": "nJwfI3hsozju"
      },
      "outputs": [],
      "execution_count": null
    },
    {
      "cell_type": "markdown",
      "source": [
        "## (f) Sales Distribution per Salesperson"
      ],
      "metadata": {
        "id": "hkL_9oiTozju"
      }
    },
    {
      "cell_type": "code",
      "source": [
        "plt.figure(figsize=(14, 6))\n",
        "sns.boxplot(data=df_choc, x='Sales Person', y='Amount', palette='Set3')\n",
        "plt.title('Sales Distribution per Salesperson')\n",
        "plt.xticks(rotation=90)\n",
        "plt.show()"
      ],
      "metadata": {
        "trusted": true,
        "execution": {
          "iopub.status.busy": "2025-04-06T13:52:35.87779Z",
          "iopub.execute_input": "2025-04-06T13:52:35.878046Z",
          "iopub.status.idle": "2025-04-06T13:52:36.38095Z",
          "shell.execute_reply.started": "2025-04-06T13:52:35.878024Z",
          "shell.execute_reply": "2025-04-06T13:52:36.379772Z"
        },
        "id": "kH22aPABozju"
      },
      "outputs": [],
      "execution_count": null
    },
    {
      "cell_type": "markdown",
      "source": [
        "## (g) Boxes Shipped vs. Amount"
      ],
      "metadata": {
        "id": "_8iyxNR-ozju"
      }
    },
    {
      "cell_type": "code",
      "source": [
        "plt.figure(figsize=(8, 6))\n",
        "sns.scatterplot(data=df_choc, x='Boxes Shipped', y='Amount', hue='Product')\n",
        "plt.title('Boxes Shipped vs. Amount')\n",
        "plt.xlabel('Boxes Shipped')\n",
        "plt.ylabel('Sales Amount')\n",
        "plt.show()"
      ],
      "metadata": {
        "trusted": true,
        "execution": {
          "iopub.status.busy": "2025-04-06T13:52:36.382071Z",
          "iopub.execute_input": "2025-04-06T13:52:36.382408Z",
          "iopub.status.idle": "2025-04-06T13:52:37.160061Z",
          "shell.execute_reply.started": "2025-04-06T13:52:36.38238Z",
          "shell.execute_reply": "2025-04-06T13:52:37.15891Z"
        },
        "id": "ZhSW0KVcozju"
      },
      "outputs": [],
      "execution_count": null
    },
    {
      "cell_type": "markdown",
      "source": [
        "## (h) Sales Heatmap by Country & Product"
      ],
      "metadata": {
        "id": "0_DjiWn7ozju"
      }
    },
    {
      "cell_type": "code",
      "source": [
        "pivot = df_choc.pivot_table(index='Country', columns='Product', values='Amount', aggfunc='sum').fillna(0)\n",
        "\n",
        "plt.figure(figsize=(12, 8))\n",
        "sns.heatmap(pivot, annot=False, fmt='.0f', cmap='YlGnBu')\n",
        "plt.title('Heatmap of Sales by Country and Product')\n",
        "plt.xlabel('Product')\n",
        "plt.ylabel('Country')\n",
        "plt.show()"
      ],
      "metadata": {
        "trusted": true,
        "execution": {
          "iopub.status.busy": "2025-04-06T13:52:37.160979Z",
          "iopub.execute_input": "2025-04-06T13:52:37.161256Z",
          "iopub.status.idle": "2025-04-06T13:52:37.585572Z",
          "shell.execute_reply.started": "2025-04-06T13:52:37.161232Z",
          "shell.execute_reply": "2025-04-06T13:52:37.584609Z"
        },
        "id": "OWrYwy8uozjv"
      },
      "outputs": [],
      "execution_count": null
    }
  ]
}